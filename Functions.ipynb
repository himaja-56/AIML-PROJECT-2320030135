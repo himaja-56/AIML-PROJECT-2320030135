{
  "nbformat": 4,
  "nbformat_minor": 0,
  "metadata": {
    "colab": {
      "provenance": [],
      "authorship_tag": "ABX9TyOPyv0cp73Wy216wUdVSpsY",
      "include_colab_link": true
    },
    "kernelspec": {
      "name": "python3",
      "display_name": "Python 3"
    },
    "language_info": {
      "name": "python"
    }
  },
  "cells": [
    {
      "cell_type": "markdown",
      "metadata": {
        "id": "view-in-github",
        "colab_type": "text"
      },
      "source": [
        "<a href=\"https://colab.research.google.com/github/himaja-56/AIML-PROJECT-2320030135/blob/main/Functions.ipynb\" target=\"_parent\"><img src=\"https://colab.research.google.com/assets/colab-badge.svg\" alt=\"Open In Colab\"/></a>"
      ]
    },
    {
      "cell_type": "markdown",
      "source": [
        "FUNCTIONS"
      ],
      "metadata": {
        "id": "Sb_XTafhQw2v"
      }
    },
    {
      "cell_type": "markdown",
      "source": [
        "They are reusable blocks of code that perform specific tasks. Functions help make code more structured and manageable, and they can eliminate duplication"
      ],
      "metadata": {
        "id": "pOBj1_0bRKc6"
      }
    },
    {
      "cell_type": "markdown",
      "source": [
        "BUILT IN FUNCTIONS"
      ],
      "metadata": {
        "id": "CKNEvSyMSNnn"
      }
    },
    {
      "cell_type": "markdown",
      "source": [
        "These functions come pre-packaged with Python, and examples include print(), len(), and str()"
      ],
      "metadata": {
        "id": "fNd5r9ovSS24"
      }
    },
    {
      "cell_type": "code",
      "execution_count": null,
      "metadata": {
        "colab": {
          "base_uri": "https://localhost:8080/"
        },
        "id": "1H6kdI66Qv2V",
        "outputId": "d02b768a-a9dd-4b16-d3ce-def0faae5829"
      },
      "outputs": [
        {
          "output_type": "stream",
          "name": "stdout",
          "text": [
            "Length of the list: 5\n",
            "Sum of the numbers: 60\n",
            "Highest score: 95\n"
          ]
        }
      ],
      "source": [
        "my_list = [1, 2, 3, 4, 5]\n",
        "length = len(my_list)\n",
        "print(\"Length of the list:\", length)\n",
        "\n",
        "numbers = [10, 20, 30]\n",
        "total = sum(numbers)\n",
        "print(\"Sum of the numbers:\", total)\n",
        "\n",
        "scores = [85, 92, 78, 95]\n",
        "highest_score = max(scores)\n",
        "print(\"Highest score:\", highest_score)\n"
      ]
    },
    {
      "cell_type": "markdown",
      "source": [
        "USER DEFINED FUNCTIONS"
      ],
      "metadata": {
        "id": "G3hZjoy0RLUx"
      }
    },
    {
      "cell_type": "markdown",
      "source": [
        "Also called custom functions, these are functions that you create yourself."
      ],
      "metadata": {
        "id": "xchhdM6CSZvy"
      }
    },
    {
      "cell_type": "code",
      "source": [
        "def greet(name):\n",
        "  \"\"\"This function greets the person passed in as a parameter.\"\"\"\n",
        "  print(\"Hello, \" + name + \"!\")\n",
        "\n",
        "greet(\"Alice\")\n"
      ],
      "metadata": {
        "colab": {
          "base_uri": "https://localhost:8080/"
        },
        "id": "NqPaS8sxScp6",
        "outputId": "b83f48e7-241f-4fec-c399-a9d456348958"
      },
      "execution_count": null,
      "outputs": [
        {
          "output_type": "stream",
          "name": "stdout",
          "text": [
            "Hello, Alice!\n"
          ]
        }
      ]
    },
    {
      "cell_type": "markdown",
      "source": [
        "ANONYMOUS FUNCTIONS"
      ],
      "metadata": {
        "id": "DrEeB7ihSwyV"
      }
    },
    {
      "cell_type": "markdown",
      "source": [
        "Also called lambda functions"
      ],
      "metadata": {
        "id": "vP2k2D9YS25i"
      }
    },
    {
      "cell_type": "code",
      "source": [
        "double = lambda x: x * 2\n",
        "result = double(5)\n",
        "print(\"Result:\", result)\n"
      ],
      "metadata": {
        "colab": {
          "base_uri": "https://localhost:8080/"
        },
        "id": "bTGKVsdTS5St",
        "outputId": "55c5e303-3ff7-48ce-ae7d-db2a8dffdef3"
      },
      "execution_count": null,
      "outputs": [
        {
          "output_type": "stream",
          "name": "stdout",
          "text": [
            "Result: 10\n"
          ]
        }
      ]
    },
    {
      "cell_type": "markdown",
      "source": [
        "RECURSIVE FUNCTION"
      ],
      "metadata": {
        "id": "3__gED69Y2aW"
      }
    },
    {
      "cell_type": "code",
      "source": [
        "def factorial(n):\n",
        "  \"\"\"Calculate the factorial of a number recursively.\"\"\"\n",
        "  if n == 0:\n",
        "    return 1\n",
        "  else:\n",
        "    return n * factorial(n - 1)\n",
        "\n",
        "# Get input from the user\n",
        "num = int(input(\"Enter a non-negative integer: \"))\n",
        "\n",
        "# Calculate the factorial\n",
        "result = factorial(num)\n",
        "\n",
        "# Display the result\n",
        "print(\"The factorial of\", num, \"is\", result)\n"
      ],
      "metadata": {
        "colab": {
          "base_uri": "https://localhost:8080/"
        },
        "id": "YeKn6g4mZLqc",
        "outputId": "032828b1-1bf6-4924-f89d-e6394aae0c82"
      },
      "execution_count": null,
      "outputs": [
        {
          "output_type": "stream",
          "name": "stdout",
          "text": [
            "Enter a non-negative integer: 5\n",
            "The factorial of 5 is 120\n"
          ]
        }
      ]
    },
    {
      "cell_type": "markdown",
      "source": [
        "EXAMPLES"
      ],
      "metadata": {
        "id": "4-MzRFg2ZgVl"
      }
    },
    {
      "cell_type": "code",
      "source": [
        "def calculate_area(length, width):\n",
        "  \"\"\"Calculates the area of a rectangle.\"\"\"\n",
        "  area = length * width\n",
        "  return area\n",
        "\n",
        "# Get input from the user\n",
        "length = float(input(\"Enter the length of the rectangle: \"))\n",
        "width = float(input(\"Enter the width of the rectangle: \"))\n",
        "\n",
        "# Calculate the area\n",
        "area = calculate_area(length, width)\n",
        "\n",
        "# Display the result\n",
        "print(\"The area of the rectangle is:\", area)"
      ],
      "metadata": {
        "colab": {
          "base_uri": "https://localhost:8080/"
        },
        "id": "GPST3LmHZYLu",
        "outputId": "e03e987f-acaf-4523-b867-db564f8f81a5"
      },
      "execution_count": null,
      "outputs": [
        {
          "output_type": "stream",
          "name": "stdout",
          "text": [
            "Enter the length of the rectangle: 5\n",
            "Enter the width of the rectangle: 6\n",
            "The area of the rectangle is: 30.0\n"
          ]
        }
      ]
    }
  ]
}