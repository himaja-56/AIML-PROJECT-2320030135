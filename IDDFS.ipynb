{
  "nbformat": 4,
  "nbformat_minor": 0,
  "metadata": {
    "colab": {
      "provenance": [],
      "authorship_tag": "ABX9TyM15FpDH78rCfS9ZhTvnYP3",
      "include_colab_link": true
    },
    "kernelspec": {
      "name": "python3",
      "display_name": "Python 3"
    },
    "language_info": {
      "name": "python"
    }
  },
  "cells": [
    {
      "cell_type": "markdown",
      "metadata": {
        "id": "view-in-github",
        "colab_type": "text"
      },
      "source": [
        "<a href=\"https://colab.research.google.com/github/himaja-56/AIML-PROJECT-2320030135/blob/main/IDDFS.ipynb\" target=\"_parent\"><img src=\"https://colab.research.google.com/assets/colab-badge.svg\" alt=\"Open In Colab\"/></a>"
      ]
    },
    {
      "cell_type": "code",
      "execution_count": 2,
      "metadata": {
        "colab": {
          "base_uri": "https://localhost:8080/"
        },
        "id": "OcPrLQdTbALa",
        "outputId": "c9a65f85-8cc8-4b22-9e41-9f6c17c26310"
      },
      "outputs": [
        {
          "output_type": "stream",
          "name": "stdout",
          "text": [
            "Enter No of Nodes:6\n",
            "Enter No of Edge:7\n",
            "0 1\n",
            "0 2\n",
            "1 2\n",
            "1 3\n",
            "2 5\n",
            "2 6\n",
            "2 7\n",
            "Enter Goal:6\n",
            "Enter Limit:3\n",
            "found within depth limit\n"
          ]
        }
      ],
      "source": [
        "from collections import defaultdict\n",
        "\n",
        "n = int(input(\"Enter No of Nodes:\"))\n",
        "e = int(input(\"Enter No of Edge:\"))\n",
        "\n",
        "graph = defaultdict(list)\n",
        "\n",
        "for i in range(e):\n",
        "    i,j = map(int,input().split())\n",
        "    graph[i].append(j)\n",
        "\n",
        "def dfs(v,goal,limit):\n",
        "    if v == goal:\n",
        "        return 1;\n",
        "\n",
        "    for i in graph[v]:\n",
        "        if limit-1 >= 0:\n",
        "            if dfs(i,goal,limit-1) !=  -1:\n",
        "                return 1\n",
        "    return -1\n",
        "\n",
        "\n",
        "goal = int(input(\"Enter Goal:\"))\n",
        "limit = int(input(\"Enter Limit:\"))\n",
        "\n",
        "res = dfs(0,goal,limit)\n",
        "\n",
        "if res == -1:\n",
        "    print(\"not found\")\n",
        "else:\n",
        "    print(\"found within depth limit\")"
      ]
    }
  ]
}