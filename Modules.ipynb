{
  "nbformat": 4,
  "nbformat_minor": 0,
  "metadata": {
    "colab": {
      "provenance": [],
      "authorship_tag": "ABX9TyO6lzCsk3tW52a1Elg8IJiG",
      "include_colab_link": true
    },
    "kernelspec": {
      "name": "python3",
      "display_name": "Python 3"
    },
    "language_info": {
      "name": "python"
    }
  },
  "cells": [
    {
      "cell_type": "markdown",
      "metadata": {
        "id": "view-in-github",
        "colab_type": "text"
      },
      "source": [
        "<a href=\"https://colab.research.google.com/github/himaja-56/AIML-PROJECT-2320030135/blob/main/Modules.ipynb\" target=\"_parent\"><img src=\"https://colab.research.google.com/assets/colab-badge.svg\" alt=\"Open In Colab\"/></a>"
      ]
    },
    {
      "cell_type": "markdown",
      "source": [
        "MODULES"
      ],
      "metadata": {
        "id": "zseYtRMITgS2"
      }
    },
    {
      "cell_type": "markdown",
      "source": [
        "A module in Python is a file that contains Python code, such as functions, classes, variables, and runnable code."
      ],
      "metadata": {
        "id": "3lANu3ZfTp2i"
      }
    },
    {
      "cell_type": "markdown",
      "source": [
        "RANDOM MODULE"
      ],
      "metadata": {
        "id": "_QZbkWuoTsWq"
      }
    },
    {
      "cell_type": "markdown",
      "source": [
        "Python Random module generates random numbers.\n",
        "To import random module:\n",
        "import random"
      ],
      "metadata": {
        "id": "YZ1iCDwhTxJA"
      }
    },
    {
      "cell_type": "markdown",
      "source": [
        "Different type of functions in random module:\n",
        "\n",
        "\n",
        "1.   randrange() : returns a random number from given range\n",
        "2.   randint() : returns a random number from given range\n",
        "3.   random() : returns a random float number between 0 and 1\n",
        "4.   random.choice() : Returns a random element from the given sequence\n",
        "5.   random.shuffle() : Takes a sequence and returns the sequence in a random order\n",
        "\n",
        "\n",
        "\n"
      ],
      "metadata": {
        "id": "d86iyndzUh1L"
      }
    },
    {
      "cell_type": "code",
      "execution_count": null,
      "metadata": {
        "id": "h3zvS72PTfEy",
        "colab": {
          "base_uri": "https://localhost:8080/"
        },
        "outputId": "f86a082c-7810-4fdd-e0da-158a1723d51c"
      },
      "outputs": [
        {
          "output_type": "stream",
          "name": "stdout",
          "text": [
            "Number on Dice:  6\n"
          ]
        }
      ],
      "source": [
        "import random\n",
        "\n",
        "def roll_dice():\n",
        "\n",
        "  roll = random.randint(1, 6)\n",
        "  return roll\n",
        "\n",
        "result = roll_dice()\n",
        "print(\"Number on Dice: \", result)\n"
      ]
    },
    {
      "cell_type": "code",
      "source": [
        "import random\n",
        "\n",
        "# Generate a random number between 1 and 10\n",
        "random_number = random.randint(1, 10)\n",
        "print(\"Random number between 1 and 10:\", random_number)\n",
        "\n",
        "# Generate a random float number between 0 and 1\n",
        "random_float = random.random()\n",
        "print(\"Random float number between 0 and 1:\", random_float)\n",
        "\n",
        "# Choose a random element from a list\n",
        "my_list = [\"apple\", \"banana\", \"cherry\"]\n",
        "random_choice = random.choice(my_list)\n",
        "print(\"Random choice from the list:\", random_choice)\n",
        "\n",
        "# Shuffle a list randomly\n",
        "my_list = [1, 2, 3, 4, 5]\n",
        "random.shuffle(my_list)\n",
        "print(\"Shuffled list:\", my_list)\n"
      ],
      "metadata": {
        "colab": {
          "base_uri": "https://localhost:8080/"
        },
        "id": "K1cbX4CbW6ii",
        "outputId": "52ec5955-85bf-4ccf-e57d-db067fe17dc3"
      },
      "execution_count": null,
      "outputs": [
        {
          "output_type": "stream",
          "name": "stdout",
          "text": [
            "Random number between 1 and 10: 1\n",
            "Random float number between 0 and 1: 0.5673294403409416\n",
            "Random choice from the list: banana\n",
            "Shuffled list: [3, 1, 4, 2, 5]\n"
          ]
        }
      ]
    },
    {
      "cell_type": "code",
      "source": [
        "import random\n",
        "number = random.randint(1,20)\n",
        "i=1\n",
        "while(i<=10):\n",
        "  print(number,'x',i,'=',number*i)\n",
        "  i=i+1"
      ],
      "metadata": {
        "colab": {
          "base_uri": "https://localhost:8080/"
        },
        "id": "TVlirbLWa8Sr",
        "outputId": "f26ac274-783d-4bcc-bdca-6d4b27cfefa4"
      },
      "execution_count": null,
      "outputs": [
        {
          "output_type": "stream",
          "name": "stdout",
          "text": [
            "11 x 1 = 11\n",
            "11 x 2 = 22\n",
            "11 x 3 = 33\n",
            "11 x 4 = 44\n",
            "11 x 5 = 55\n",
            "11 x 6 = 66\n",
            "11 x 7 = 77\n",
            "11 x 8 = 88\n",
            "11 x 9 = 99\n",
            "11 x 10 = 110\n"
          ]
        }
      ]
    },
    {
      "cell_type": "code",
      "source": [
        "import random\n",
        "\n",
        "def create_environment(size):\n",
        "    return {\n",
        "        'size': size,\n",
        "        'agent_position': [0, 0]\n",
        "    }\n",
        "\n",
        "def is_valid_move(environment, position):\n",
        "    size = environment['size']\n",
        "    return 0 <= position[0] < size and 0 <= position[1] < size\n",
        "\n",
        "def perceive(environment):\n",
        "    return environment['agent_position']\n",
        "\n",
        "def act(environment):\n",
        "    moves = [(-1, 0), (1, 0), (0, -1), (0, 1)]  # Up, Down, Left, Right\n",
        "    random_move = random.choice(moves)\n",
        "    new_position = [\n",
        "        environment['agent_position'][0] + random_move[0],\n",
        "        environment['agent_position'][1] + random_move[1]\n",
        "    ]\n",
        "\n",
        "    if is_valid_move(environment, new_position):\n",
        "        environment['agent_position'] = new_position\n",
        "        return f\"Moved to {environment['agent_position']}\"\n",
        "    else:\n",
        "        return \"Cannot move, stayed in place\"\n",
        "\n",
        "def main():\n",
        "    env_size = 5\n",
        "    num_steps = 10\n",
        "\n",
        "    environment = create_environment(env_size)\n",
        "\n",
        "    print(f\"Starting position: {perceive(environment)}\")\n",
        "\n",
        "    for step in range(num_steps):\n",
        "        print(f\"Step {step + 1}: {act(environment)}\")\n",
        "\n",
        "if __name__ == \"__main__\":\n",
        "    main()"
      ],
      "metadata": {
        "colab": {
          "base_uri": "https://localhost:8080/"
        },
        "id": "SVm_7sKYeE1N",
        "outputId": "f1fd4888-7465-4b45-8004-7c2603f21d7b"
      },
      "execution_count": null,
      "outputs": [
        {
          "output_type": "stream",
          "name": "stdout",
          "text": [
            "Starting position: [0, 0]\n",
            "Step 1: Moved to [0, 1]\n",
            "Step 2: Moved to [0, 0]\n",
            "Step 3: Moved to [1, 0]\n",
            "Step 4: Moved to [2, 0]\n",
            "Step 5: Moved to [3, 0]\n",
            "Step 6: Moved to [2, 0]\n",
            "Step 7: Moved to [2, 1]\n",
            "Step 8: Moved to [3, 1]\n",
            "Step 9: Moved to [4, 1]\n",
            "Step 10: Moved to [3, 1]\n"
          ]
        }
      ]
    }
  ]
}