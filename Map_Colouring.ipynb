{
  "nbformat": 4,
  "nbformat_minor": 0,
  "metadata": {
    "colab": {
      "provenance": [],
      "authorship_tag": "ABX9TyP+ZzO0sgqS+K6XwAUR1URk",
      "include_colab_link": true
    },
    "kernelspec": {
      "name": "python3",
      "display_name": "Python 3"
    },
    "language_info": {
      "name": "python"
    }
  },
  "cells": [
    {
      "cell_type": "markdown",
      "metadata": {
        "id": "view-in-github",
        "colab_type": "text"
      },
      "source": [
        "<a href=\"https://colab.research.google.com/github/himaja-56/AIML-PROJECT-2320030135/blob/main/Map_Colouring.ipynb\" target=\"_parent\"><img src=\"https://colab.research.google.com/assets/colab-badge.svg\" alt=\"Open In Colab\"/></a>"
      ]
    },
    {
      "cell_type": "code",
      "execution_count": null,
      "metadata": {
        "colab": {
          "base_uri": "https://localhost:8080/"
        },
        "id": "MoV0QiLYq-bs",
        "outputId": "ec014059-5594-43c7-a3ca-19d4e6eb9d26"
      },
      "outputs": [
        {
          "output_type": "stream",
          "name": "stdout",
          "text": [
            "Map coloring solution:\n",
            "Vertex 0: Red\n",
            "Vertex 1: Green\n",
            "Vertex 2: Blue\n",
            "Vertex 3: Red\n"
          ]
        }
      ],
      "source": [
        "def is_safe(graph, vertex, color, assignment):\n",
        "  # Check if any adjacent vertex has the same color\n",
        "  for neighbor in graph[vertex]:\n",
        "    if neighbor in assignment and assignment[neighbor] == color:\n",
        "      return False\n",
        "  return True\n",
        "\n",
        "def map_coloring(graph, colors):\n",
        "  assignment = {}\n",
        "\n",
        "  def backtrack(vertex):\n",
        "    if vertex == len(graph):\n",
        "      return True\n",
        "\n",
        "    for color in colors:\n",
        "      if is_safe(graph, vertex, color, assignment):\n",
        "        assignment[vertex] = color\n",
        "        if backtrack(vertex + 1):\n",
        "          return True\n",
        "        del assignment[vertex]  # Backtrack: remove the assignment\n",
        "\n",
        "    return False\n",
        "\n",
        "  if backtrack(0):\n",
        "    return assignment\n",
        "  else:\n",
        "    return None\n",
        "\n",
        "# Example usage:\n",
        "graph = {\n",
        "  0: [1, 2],\n",
        "  1: [0, 2, 3],\n",
        "  2: [0, 1, 3],\n",
        "  3: [1, 2]\n",
        "}\n",
        "colors = ['Red', 'Green', 'Blue']\n",
        "\n",
        "result = map_coloring(graph, colors)\n",
        "\n",
        "if result:\n",
        "  print(\"Map coloring solution:\")\n",
        "  for vertex, color in result.items():\n",
        "    print(f\"Vertex {vertex}: {color}\")\n",
        "else:\n",
        "  print(\"No solution found.\")\n"
      ]
    }
  ]
}